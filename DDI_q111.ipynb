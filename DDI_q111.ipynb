{
  "nbformat": 4,
  "nbformat_minor": 0,
  "metadata": {
    "colab": {
      "name": "DDI_q111.ipynb",
      "provenance": [],
      "include_colab_link": true
    },
    "kernelspec": {
      "name": "python3",
      "display_name": "Python 3"
    }
  },
  "cells": [
    {
      "cell_type": "markdown",
      "metadata": {
        "id": "view-in-github",
        "colab_type": "text"
      },
      "source": [
        "<a href=\"https://colab.research.google.com/github/glazenda/API-Project/blob/master/DDI_q111.ipynb\" target=\"_parent\"><img src=\"https://colab.research.google.com/assets/colab-badge.svg\" alt=\"Open In Colab\"/></a>"
      ]
    },
    {
      "cell_type": "markdown",
      "metadata": {
        "id": "35-tYdXjJojh",
        "colab_type": "text"
      },
      "source": [
        "Question from <a href=\"www.interviewqs.com\">Data Interview Qs</a> - sign up to receive a few DS questions/week via email."
      ]
    },
    {
      "cell_type": "markdown",
      "metadata": {
        "id": "BeO2dmERJ_3E",
        "colab_type": "text"
      },
      "source": [
        "\n",
        "\n",
        "---\n",
        "\n"
      ]
    },
    {
      "cell_type": "markdown",
      "metadata": {
        "id": "Ukw5sfe0J7Pq",
        "colab_type": "text"
      },
      "source": [
        "Suppose you have a dataframe, df, with the following records:"
      ]
    },
    {
      "cell_type": "code",
      "metadata": {
        "id": "ORo9mm9jTrPj",
        "colab_type": "code",
        "outputId": "d8fb9812-b5e1-45fc-a934-c2cd2901001c",
        "colab": {
          "base_uri": "https://localhost:8080/",
          "height": 173
        }
      },
      "source": [
        "import pandas as pd\n",
        "raw_data = {'age': [20, 19, 22, 21], \n",
        "        'favorite_color': ['blue', 'blue', 'yellow', 'green'], \n",
        "        'grade': [88, 95, 92, 70], \n",
        "        'name': ['Willard Morris', 'Al Jennings', 'Omar Mullins', 'Spencer McDaniel']}\n",
        "df = pd.DataFrame(raw_data, columns = ['age', 'favorite_color', 'grade', 'name',])\n",
        "df"
      ],
      "execution_count": 0,
      "outputs": [
        {
          "output_type": "execute_result",
          "data": {
            "text/html": [
              "<div>\n",
              "<style scoped>\n",
              "    .dataframe tbody tr th:only-of-type {\n",
              "        vertical-align: middle;\n",
              "    }\n",
              "\n",
              "    .dataframe tbody tr th {\n",
              "        vertical-align: top;\n",
              "    }\n",
              "\n",
              "    .dataframe thead th {\n",
              "        text-align: right;\n",
              "    }\n",
              "</style>\n",
              "<table border=\"1\" class=\"dataframe\">\n",
              "  <thead>\n",
              "    <tr style=\"text-align: right;\">\n",
              "      <th></th>\n",
              "      <th>age</th>\n",
              "      <th>favorite_color</th>\n",
              "      <th>grade</th>\n",
              "      <th>name</th>\n",
              "    </tr>\n",
              "  </thead>\n",
              "  <tbody>\n",
              "    <tr>\n",
              "      <th>0</th>\n",
              "      <td>20</td>\n",
              "      <td>blue</td>\n",
              "      <td>88</td>\n",
              "      <td>Willard Morris</td>\n",
              "    </tr>\n",
              "    <tr>\n",
              "      <th>1</th>\n",
              "      <td>19</td>\n",
              "      <td>blue</td>\n",
              "      <td>95</td>\n",
              "      <td>Al Jennings</td>\n",
              "    </tr>\n",
              "    <tr>\n",
              "      <th>2</th>\n",
              "      <td>22</td>\n",
              "      <td>yellow</td>\n",
              "      <td>92</td>\n",
              "      <td>Omar Mullins</td>\n",
              "    </tr>\n",
              "    <tr>\n",
              "      <th>3</th>\n",
              "      <td>21</td>\n",
              "      <td>green</td>\n",
              "      <td>70</td>\n",
              "      <td>Spencer McDaniel</td>\n",
              "    </tr>\n",
              "  </tbody>\n",
              "</table>\n",
              "</div>"
            ],
            "text/plain": [
              "   age favorite_color  grade              name\n",
              "0   20           blue     88    Willard Morris\n",
              "1   19           blue     95       Al Jennings\n",
              "2   22         yellow     92      Omar Mullins\n",
              "3   21          green     70  Spencer McDaniel"
            ]
          },
          "metadata": {
            "tags": []
          },
          "execution_count": 1
        }
      ]
    },
    {
      "cell_type": "markdown",
      "metadata": {
        "id": "oPs-FDVoTvy3",
        "colab_type": "text"
      },
      "source": [
        "The dataframe is showing information about students. Write code using Python Pandas to select the rows where the students' favorite color is green or yellow and their grade is between 85-95 (inclusive)."
      ]
    },
    {
      "cell_type": "markdown",
      "metadata": {
        "id": "H_IMNOsYLt2I",
        "colab_type": "text"
      },
      "source": [
        "Solution will be written in Python for premium users."
      ]
    },
    {
      "cell_type": "markdown",
      "metadata": {
        "id": "Ex_Wu2BgKOr0",
        "colab_type": "text"
      },
      "source": [
        "\n",
        "\n",
        "---\n",
        "\n"
      ]
    },
    {
      "cell_type": "markdown",
      "metadata": {
        "id": "jy3V9cdrJtoJ",
        "colab_type": "text"
      },
      "source": [
        "<a href=\"https://www.interviewqs.com/signup\">Upgrade to premium</a> to receive in-depth solutions to each problem.\n"
      ]
    },
    {
      "cell_type": "code",
      "metadata": {
        "id": "jplWfnS5NtFc",
        "colab_type": "code",
        "colab": {}
      },
      "source": [
        ""
      ],
      "execution_count": 0,
      "outputs": []
    }
  ]
}